{
 "cells": [
  {
   "cell_type": "code",
   "execution_count": 114,
   "id": "impaired-stylus",
   "metadata": {},
   "outputs": [],
   "source": [
    "import joblib\n",
    "import os\n",
    "from pathlib import Path\n",
    "\n",
    "import pandas as pd\n",
    "import matplotlib.pyplot as plt\n",
    "from joblib import dump\n",
    "from sklearn.ensemble import RandomForestClassifier\n",
    "from sklearn.metrics import f1_score, ConfusionMatrixDisplay, roc_auc_score\n",
    "from sklearn.model_selection import train_test_split\n",
    "from sklearn.compose import ColumnTransformer\n",
    "from sklearn.impute import SimpleImputer\n",
    "from sklearn.pipeline import Pipeline\n",
    "from sklearn.preprocessing import OrdinalEncoder, StandardScaler\n",
    "from lightgbm import LGBMClassifier\n",
    "from xgboost import XGBClassifier"
   ]
  },
  {
   "cell_type": "markdown",
   "id": "7ba34b3a",
   "metadata": {
    "editable": true,
    "slideshow": {
     "slide_type": ""
    },
    "tags": []
   },
   "source": [
    "# Run ML Experiment"
   ]
  },
  {
   "cell_type": "markdown",
   "id": "35d562f4-c339-451a-ab35-e2eb181d3652",
   "metadata": {},
   "source": [
    "## Prepare Data"
   ]
  },
  {
   "cell_type": "code",
   "execution_count": 115,
   "id": "accepting-wallet",
   "metadata": {},
   "outputs": [],
   "source": [
    "# Load Data \n",
    "\n",
    "PROJECT_DIR = Path(os.getcwd()).parent.absolute()\n",
    "churn_filepath = PROJECT_DIR/'data'/'Churn_Modelling.csv'"
   ]
  },
  {
   "cell_type": "code",
   "execution_count": 116,
   "id": "continued-juvenile",
   "metadata": {},
   "outputs": [
    {
     "data": {
      "text/html": [
       "<div>\n",
       "<style scoped>\n",
       "    .dataframe tbody tr th:only-of-type {\n",
       "        vertical-align: middle;\n",
       "    }\n",
       "\n",
       "    .dataframe tbody tr th {\n",
       "        vertical-align: top;\n",
       "    }\n",
       "\n",
       "    .dataframe thead th {\n",
       "        text-align: right;\n",
       "    }\n",
       "</style>\n",
       "<table border=\"1\" class=\"dataframe\">\n",
       "  <thead>\n",
       "    <tr style=\"text-align: right;\">\n",
       "      <th></th>\n",
       "      <th>RowNumber</th>\n",
       "      <th>CustomerId</th>\n",
       "      <th>Surname</th>\n",
       "      <th>CreditScore</th>\n",
       "      <th>Geography</th>\n",
       "      <th>Gender</th>\n",
       "      <th>Age</th>\n",
       "      <th>Tenure</th>\n",
       "      <th>Balance</th>\n",
       "      <th>NumOfProducts</th>\n",
       "      <th>HasCrCard</th>\n",
       "      <th>IsActiveMember</th>\n",
       "      <th>EstimatedSalary</th>\n",
       "      <th>Exited</th>\n",
       "    </tr>\n",
       "  </thead>\n",
       "  <tbody>\n",
       "    <tr>\n",
       "      <th>0</th>\n",
       "      <td>1</td>\n",
       "      <td>15634602</td>\n",
       "      <td>Hargrave</td>\n",
       "      <td>619</td>\n",
       "      <td>France</td>\n",
       "      <td>Female</td>\n",
       "      <td>42</td>\n",
       "      <td>2</td>\n",
       "      <td>0.00</td>\n",
       "      <td>1</td>\n",
       "      <td>1</td>\n",
       "      <td>1</td>\n",
       "      <td>101348.88</td>\n",
       "      <td>1</td>\n",
       "    </tr>\n",
       "    <tr>\n",
       "      <th>1</th>\n",
       "      <td>2</td>\n",
       "      <td>15647311</td>\n",
       "      <td>Hill</td>\n",
       "      <td>608</td>\n",
       "      <td>Spain</td>\n",
       "      <td>Female</td>\n",
       "      <td>41</td>\n",
       "      <td>1</td>\n",
       "      <td>83807.86</td>\n",
       "      <td>1</td>\n",
       "      <td>0</td>\n",
       "      <td>1</td>\n",
       "      <td>112542.58</td>\n",
       "      <td>0</td>\n",
       "    </tr>\n",
       "    <tr>\n",
       "      <th>2</th>\n",
       "      <td>3</td>\n",
       "      <td>15619304</td>\n",
       "      <td>Onio</td>\n",
       "      <td>502</td>\n",
       "      <td>France</td>\n",
       "      <td>Female</td>\n",
       "      <td>42</td>\n",
       "      <td>8</td>\n",
       "      <td>159660.80</td>\n",
       "      <td>3</td>\n",
       "      <td>1</td>\n",
       "      <td>0</td>\n",
       "      <td>113931.57</td>\n",
       "      <td>1</td>\n",
       "    </tr>\n",
       "    <tr>\n",
       "      <th>3</th>\n",
       "      <td>4</td>\n",
       "      <td>15701354</td>\n",
       "      <td>Boni</td>\n",
       "      <td>699</td>\n",
       "      <td>France</td>\n",
       "      <td>Female</td>\n",
       "      <td>39</td>\n",
       "      <td>1</td>\n",
       "      <td>0.00</td>\n",
       "      <td>2</td>\n",
       "      <td>0</td>\n",
       "      <td>0</td>\n",
       "      <td>93826.63</td>\n",
       "      <td>0</td>\n",
       "    </tr>\n",
       "    <tr>\n",
       "      <th>4</th>\n",
       "      <td>5</td>\n",
       "      <td>15737888</td>\n",
       "      <td>Mitchell</td>\n",
       "      <td>850</td>\n",
       "      <td>Spain</td>\n",
       "      <td>Female</td>\n",
       "      <td>43</td>\n",
       "      <td>2</td>\n",
       "      <td>125510.82</td>\n",
       "      <td>1</td>\n",
       "      <td>1</td>\n",
       "      <td>1</td>\n",
       "      <td>79084.10</td>\n",
       "      <td>0</td>\n",
       "    </tr>\n",
       "  </tbody>\n",
       "</table>\n",
       "</div>"
      ],
      "text/plain": [
       "   RowNumber  CustomerId   Surname  CreditScore Geography  Gender  Age  \\\n",
       "0          1    15634602  Hargrave          619    France  Female   42   \n",
       "1          2    15647311      Hill          608     Spain  Female   41   \n",
       "2          3    15619304      Onio          502    France  Female   42   \n",
       "3          4    15701354      Boni          699    France  Female   39   \n",
       "4          5    15737888  Mitchell          850     Spain  Female   43   \n",
       "\n",
       "   Tenure    Balance  NumOfProducts  HasCrCard  IsActiveMember  \\\n",
       "0       2       0.00              1          1               1   \n",
       "1       1   83807.86              1          0               1   \n",
       "2       8  159660.80              3          1               0   \n",
       "3       1       0.00              2          0               0   \n",
       "4       2  125510.82              1          1               1   \n",
       "\n",
       "   EstimatedSalary  Exited  \n",
       "0        101348.88       1  \n",
       "1        112542.58       0  \n",
       "2        113931.57       1  \n",
       "3         93826.63       0  \n",
       "4         79084.10       0  "
      ]
     },
     "execution_count": 116,
     "metadata": {},
     "output_type": "execute_result"
    }
   ],
   "source": [
    "df = pd.read_csv(churn_filepath)\n",
    "df.head()"
   ]
  },
  {
   "cell_type": "code",
   "execution_count": 117,
   "id": "bb0d9f24",
   "metadata": {},
   "outputs": [
    {
     "data": {
      "text/plain": [
       "(10000, 14)"
      ]
     },
     "execution_count": 117,
     "metadata": {},
     "output_type": "execute_result"
    }
   ],
   "source": [
    "df.shape"
   ]
  },
  {
   "cell_type": "code",
   "execution_count": 118,
   "id": "unnecessary-roots",
   "metadata": {},
   "outputs": [
    {
     "data": {
      "text/plain": [
       "RowNumber          0\n",
       "CustomerId         0\n",
       "Surname            0\n",
       "CreditScore        0\n",
       "Geography          0\n",
       "Gender             0\n",
       "Age                0\n",
       "Tenure             0\n",
       "Balance            0\n",
       "NumOfProducts      0\n",
       "HasCrCard          0\n",
       "IsActiveMember     0\n",
       "EstimatedSalary    0\n",
       "Exited             0\n",
       "dtype: int64"
      ]
     },
     "execution_count": 118,
     "metadata": {},
     "output_type": "execute_result"
    }
   ],
   "source": [
    "# Are there missing values?\n",
    "df.isna().sum()"
   ]
  },
  {
   "cell_type": "code",
   "execution_count": 119,
   "id": "b025ccce",
   "metadata": {},
   "outputs": [
    {
     "data": {
      "text/plain": [
       "Geography\n",
       "France     5014\n",
       "Germany    2509\n",
       "Spain      2477\n",
       "Name: count, dtype: int64"
      ]
     },
     "execution_count": 119,
     "metadata": {},
     "output_type": "execute_result"
    }
   ],
   "source": [
    "df['Geography'].value_counts()"
   ]
  },
  {
   "cell_type": "code",
   "execution_count": 120,
   "id": "scheduled-measure",
   "metadata": {},
   "outputs": [],
   "source": [
    "cat_cols = ['Geography', 'Gender']\n",
    "num_cols = ['CreditScore', 'Age', 'Tenure', \n",
    "               'Balance', 'NumOfProducts', 'HasCrCard',\n",
    "               'IsActiveMember', 'EstimatedSalary']\n",
    "targ_col = 'Exited'\n",
    "\n",
    "\n",
    "X, y = df[cat_cols + num_cols], df[targ_col]"
   ]
  },
  {
   "cell_type": "code",
   "execution_count": 121,
   "id": "c4d476a6",
   "metadata": {},
   "outputs": [
    {
     "data": {
      "text/plain": [
       "0.2037"
      ]
     },
     "execution_count": 121,
     "metadata": {},
     "output_type": "execute_result"
    }
   ],
   "source": [
    "y.mean()"
   ]
  },
  {
   "cell_type": "code",
   "execution_count": 122,
   "id": "historic-doubt",
   "metadata": {},
   "outputs": [],
   "source": [
    "# Data Split \n",
    "\n",
    "X_train, X_test, y_train, y_test = train_test_split(X, y, test_size=0.25, random_state=42)"
   ]
  },
  {
   "cell_type": "markdown",
   "id": "b1b248fd",
   "metadata": {},
   "source": [
    "## Train a model"
   ]
  },
  {
   "cell_type": "code",
   "execution_count": 123,
   "id": "infinite-african",
   "metadata": {},
   "outputs": [
    {
     "data": {
      "text/html": [
       "<style>#sk-container-id-4 {color: black;}#sk-container-id-4 pre{padding: 0;}#sk-container-id-4 div.sk-toggleable {background-color: white;}#sk-container-id-4 label.sk-toggleable__label {cursor: pointer;display: block;width: 100%;margin-bottom: 0;padding: 0.3em;box-sizing: border-box;text-align: center;}#sk-container-id-4 label.sk-toggleable__label-arrow:before {content: \"▸\";float: left;margin-right: 0.25em;color: #696969;}#sk-container-id-4 label.sk-toggleable__label-arrow:hover:before {color: black;}#sk-container-id-4 div.sk-estimator:hover label.sk-toggleable__label-arrow:before {color: black;}#sk-container-id-4 div.sk-toggleable__content {max-height: 0;max-width: 0;overflow: hidden;text-align: left;background-color: #f0f8ff;}#sk-container-id-4 div.sk-toggleable__content pre {margin: 0.2em;color: black;border-radius: 0.25em;background-color: #f0f8ff;}#sk-container-id-4 input.sk-toggleable__control:checked~div.sk-toggleable__content {max-height: 200px;max-width: 100%;overflow: auto;}#sk-container-id-4 input.sk-toggleable__control:checked~label.sk-toggleable__label-arrow:before {content: \"▾\";}#sk-container-id-4 div.sk-estimator input.sk-toggleable__control:checked~label.sk-toggleable__label {background-color: #d4ebff;}#sk-container-id-4 div.sk-label input.sk-toggleable__control:checked~label.sk-toggleable__label {background-color: #d4ebff;}#sk-container-id-4 input.sk-hidden--visually {border: 0;clip: rect(1px 1px 1px 1px);clip: rect(1px, 1px, 1px, 1px);height: 1px;margin: -1px;overflow: hidden;padding: 0;position: absolute;width: 1px;}#sk-container-id-4 div.sk-estimator {font-family: monospace;background-color: #f0f8ff;border: 1px dotted black;border-radius: 0.25em;box-sizing: border-box;margin-bottom: 0.5em;}#sk-container-id-4 div.sk-estimator:hover {background-color: #d4ebff;}#sk-container-id-4 div.sk-parallel-item::after {content: \"\";width: 100%;border-bottom: 1px solid gray;flex-grow: 1;}#sk-container-id-4 div.sk-label:hover label.sk-toggleable__label {background-color: #d4ebff;}#sk-container-id-4 div.sk-serial::before {content: \"\";position: absolute;border-left: 1px solid gray;box-sizing: border-box;top: 0;bottom: 0;left: 50%;z-index: 0;}#sk-container-id-4 div.sk-serial {display: flex;flex-direction: column;align-items: center;background-color: white;padding-right: 0.2em;padding-left: 0.2em;position: relative;}#sk-container-id-4 div.sk-item {position: relative;z-index: 1;}#sk-container-id-4 div.sk-parallel {display: flex;align-items: stretch;justify-content: center;background-color: white;position: relative;}#sk-container-id-4 div.sk-item::before, #sk-container-id-4 div.sk-parallel-item::before {content: \"\";position: absolute;border-left: 1px solid gray;box-sizing: border-box;top: 0;bottom: 0;left: 50%;z-index: -1;}#sk-container-id-4 div.sk-parallel-item {display: flex;flex-direction: column;z-index: 1;position: relative;background-color: white;}#sk-container-id-4 div.sk-parallel-item:first-child::after {align-self: flex-end;width: 50%;}#sk-container-id-4 div.sk-parallel-item:last-child::after {align-self: flex-start;width: 50%;}#sk-container-id-4 div.sk-parallel-item:only-child::after {width: 0;}#sk-container-id-4 div.sk-dashed-wrapped {border: 1px dashed gray;margin: 0 0.4em 0.5em 0.4em;box-sizing: border-box;padding-bottom: 0.4em;background-color: white;}#sk-container-id-4 div.sk-label label {font-family: monospace;font-weight: bold;display: inline-block;line-height: 1.2em;}#sk-container-id-4 div.sk-label-container {text-align: center;}#sk-container-id-4 div.sk-container {/* jupyter's `normalize.less` sets `[hidden] { display: none; }` but bootstrap.min.css set `[hidden] { display: none !important; }` so we also need the `!important` here to be able to override the default hidden behavior on the sphinx rendered scikit-learn.org. See: https://github.com/scikit-learn/scikit-learn/issues/21755 */display: inline-block !important;position: relative;}#sk-container-id-4 div.sk-text-repr-fallback {display: none;}</style><div id=\"sk-container-id-4\" class=\"sk-top-container\"><div class=\"sk-text-repr-fallback\"><pre>Pipeline(steps=[(&#x27;preprocessor&#x27;,\n",
       "                 ColumnTransformer(transformers=[(&#x27;num&#x27;,\n",
       "                                                  Pipeline(steps=[(&#x27;imputer&#x27;,\n",
       "                                                                   SimpleImputer()),\n",
       "                                                                  (&#x27;scaler&#x27;,\n",
       "                                                                   StandardScaler())]),\n",
       "                                                  [&#x27;CreditScore&#x27;, &#x27;Age&#x27;,\n",
       "                                                   &#x27;Tenure&#x27;, &#x27;Balance&#x27;,\n",
       "                                                   &#x27;NumOfProducts&#x27;, &#x27;HasCrCard&#x27;,\n",
       "                                                   &#x27;IsActiveMember&#x27;,\n",
       "                                                   &#x27;EstimatedSalary&#x27;]),\n",
       "                                                 (&#x27;cat&#x27;, OrdinalEncoder(),\n",
       "                                                  [&#x27;Geography&#x27;, &#x27;Gender&#x27;])])),\n",
       "                (&#x27;clf&#x27;, RandomForestClassifier(max_depth=10, random_state=42))])</pre><b>In a Jupyter environment, please rerun this cell to show the HTML representation or trust the notebook. <br />On GitHub, the HTML representation is unable to render, please try loading this page with nbviewer.org.</b></div><div class=\"sk-container\" hidden><div class=\"sk-item sk-dashed-wrapped\"><div class=\"sk-label-container\"><div class=\"sk-label sk-toggleable\"><input class=\"sk-toggleable__control sk-hidden--visually\" id=\"sk-estimator-id-25\" type=\"checkbox\" ><label for=\"sk-estimator-id-25\" class=\"sk-toggleable__label sk-toggleable__label-arrow\">Pipeline</label><div class=\"sk-toggleable__content\"><pre>Pipeline(steps=[(&#x27;preprocessor&#x27;,\n",
       "                 ColumnTransformer(transformers=[(&#x27;num&#x27;,\n",
       "                                                  Pipeline(steps=[(&#x27;imputer&#x27;,\n",
       "                                                                   SimpleImputer()),\n",
       "                                                                  (&#x27;scaler&#x27;,\n",
       "                                                                   StandardScaler())]),\n",
       "                                                  [&#x27;CreditScore&#x27;, &#x27;Age&#x27;,\n",
       "                                                   &#x27;Tenure&#x27;, &#x27;Balance&#x27;,\n",
       "                                                   &#x27;NumOfProducts&#x27;, &#x27;HasCrCard&#x27;,\n",
       "                                                   &#x27;IsActiveMember&#x27;,\n",
       "                                                   &#x27;EstimatedSalary&#x27;]),\n",
       "                                                 (&#x27;cat&#x27;, OrdinalEncoder(),\n",
       "                                                  [&#x27;Geography&#x27;, &#x27;Gender&#x27;])])),\n",
       "                (&#x27;clf&#x27;, RandomForestClassifier(max_depth=10, random_state=42))])</pre></div></div></div><div class=\"sk-serial\"><div class=\"sk-item sk-dashed-wrapped\"><div class=\"sk-label-container\"><div class=\"sk-label sk-toggleable\"><input class=\"sk-toggleable__control sk-hidden--visually\" id=\"sk-estimator-id-26\" type=\"checkbox\" ><label for=\"sk-estimator-id-26\" class=\"sk-toggleable__label sk-toggleable__label-arrow\">preprocessor: ColumnTransformer</label><div class=\"sk-toggleable__content\"><pre>ColumnTransformer(transformers=[(&#x27;num&#x27;,\n",
       "                                 Pipeline(steps=[(&#x27;imputer&#x27;, SimpleImputer()),\n",
       "                                                 (&#x27;scaler&#x27;, StandardScaler())]),\n",
       "                                 [&#x27;CreditScore&#x27;, &#x27;Age&#x27;, &#x27;Tenure&#x27;, &#x27;Balance&#x27;,\n",
       "                                  &#x27;NumOfProducts&#x27;, &#x27;HasCrCard&#x27;,\n",
       "                                  &#x27;IsActiveMember&#x27;, &#x27;EstimatedSalary&#x27;]),\n",
       "                                (&#x27;cat&#x27;, OrdinalEncoder(),\n",
       "                                 [&#x27;Geography&#x27;, &#x27;Gender&#x27;])])</pre></div></div></div><div class=\"sk-parallel\"><div class=\"sk-parallel-item\"><div class=\"sk-item\"><div class=\"sk-label-container\"><div class=\"sk-label sk-toggleable\"><input class=\"sk-toggleable__control sk-hidden--visually\" id=\"sk-estimator-id-27\" type=\"checkbox\" ><label for=\"sk-estimator-id-27\" class=\"sk-toggleable__label sk-toggleable__label-arrow\">num</label><div class=\"sk-toggleable__content\"><pre>[&#x27;CreditScore&#x27;, &#x27;Age&#x27;, &#x27;Tenure&#x27;, &#x27;Balance&#x27;, &#x27;NumOfProducts&#x27;, &#x27;HasCrCard&#x27;, &#x27;IsActiveMember&#x27;, &#x27;EstimatedSalary&#x27;]</pre></div></div></div><div class=\"sk-serial\"><div class=\"sk-item\"><div class=\"sk-serial\"><div class=\"sk-item\"><div class=\"sk-estimator sk-toggleable\"><input class=\"sk-toggleable__control sk-hidden--visually\" id=\"sk-estimator-id-28\" type=\"checkbox\" ><label for=\"sk-estimator-id-28\" class=\"sk-toggleable__label sk-toggleable__label-arrow\">SimpleImputer</label><div class=\"sk-toggleable__content\"><pre>SimpleImputer()</pre></div></div></div><div class=\"sk-item\"><div class=\"sk-estimator sk-toggleable\"><input class=\"sk-toggleable__control sk-hidden--visually\" id=\"sk-estimator-id-29\" type=\"checkbox\" ><label for=\"sk-estimator-id-29\" class=\"sk-toggleable__label sk-toggleable__label-arrow\">StandardScaler</label><div class=\"sk-toggleable__content\"><pre>StandardScaler()</pre></div></div></div></div></div></div></div></div><div class=\"sk-parallel-item\"><div class=\"sk-item\"><div class=\"sk-label-container\"><div class=\"sk-label sk-toggleable\"><input class=\"sk-toggleable__control sk-hidden--visually\" id=\"sk-estimator-id-30\" type=\"checkbox\" ><label for=\"sk-estimator-id-30\" class=\"sk-toggleable__label sk-toggleable__label-arrow\">cat</label><div class=\"sk-toggleable__content\"><pre>[&#x27;Geography&#x27;, &#x27;Gender&#x27;]</pre></div></div></div><div class=\"sk-serial\"><div class=\"sk-item\"><div class=\"sk-estimator sk-toggleable\"><input class=\"sk-toggleable__control sk-hidden--visually\" id=\"sk-estimator-id-31\" type=\"checkbox\" ><label for=\"sk-estimator-id-31\" class=\"sk-toggleable__label sk-toggleable__label-arrow\">OrdinalEncoder</label><div class=\"sk-toggleable__content\"><pre>OrdinalEncoder()</pre></div></div></div></div></div></div></div></div><div class=\"sk-item\"><div class=\"sk-estimator sk-toggleable\"><input class=\"sk-toggleable__control sk-hidden--visually\" id=\"sk-estimator-id-32\" type=\"checkbox\" ><label for=\"sk-estimator-id-32\" class=\"sk-toggleable__label sk-toggleable__label-arrow\">RandomForestClassifier</label><div class=\"sk-toggleable__content\"><pre>RandomForestClassifier(max_depth=10, random_state=42)</pre></div></div></div></div></div></div></div>"
      ],
      "text/plain": [
       "Pipeline(steps=[('preprocessor',\n",
       "                 ColumnTransformer(transformers=[('num',\n",
       "                                                  Pipeline(steps=[('imputer',\n",
       "                                                                   SimpleImputer()),\n",
       "                                                                  ('scaler',\n",
       "                                                                   StandardScaler())]),\n",
       "                                                  ['CreditScore', 'Age',\n",
       "                                                   'Tenure', 'Balance',\n",
       "                                                   'NumOfProducts', 'HasCrCard',\n",
       "                                                   'IsActiveMember',\n",
       "                                                   'EstimatedSalary']),\n",
       "                                                 ('cat', OrdinalEncoder(),\n",
       "                                                  ['Geography', 'Gender'])])),\n",
       "                ('clf', RandomForestClassifier(max_depth=10, random_state=42))])"
      ]
     },
     "execution_count": 123,
     "metadata": {},
     "output_type": "execute_result"
    }
   ],
   "source": [
    "random_state = 42\n",
    "train_params = {'n_estimators': 100, 'max_depth': 10}\n",
    "\n",
    "# Select algorithm\n",
    "clf = RandomForestClassifier(random_state=random_state,  **train_params)\n",
    "# clf = LGBMClassifier(random_state=random_state, **train_params)\n",
    "# clf = XGBClassifier(random_state=random_state, **train_params)\n",
    "\n",
    "numeric_transformer = Pipeline(\n",
    "    steps=[\n",
    "        (\"imputer\", SimpleImputer()),\n",
    "        (\"scaler\", StandardScaler())\n",
    "        ]\n",
    "    )\n",
    "categorical_transformer = OrdinalEncoder()\n",
    "preprocessor = ColumnTransformer(\n",
    "    transformers=[\n",
    "        (\"num\", numeric_transformer, num_cols),\n",
    "        (\"cat\", categorical_transformer, cat_cols),\n",
    "    ]\n",
    ")\n",
    "model = Pipeline(\n",
    "    steps=[(\"preprocessor\", preprocessor), (\"clf\", clf)]\n",
    "    )\n",
    "\n",
    "model.fit(X_train, y_train)"
   ]
  },
  {
   "cell_type": "code",
   "execution_count": 124,
   "id": "0000b109-36f4-4a9d-a9be-0e914d35eadb",
   "metadata": {},
   "outputs": [
    {
     "data": {
      "text/plain": [
       "['/Users/mnrozhkov/dev/iterative/examples/demo-bank-customer-churn/models/model.joblib']"
      ]
     },
     "execution_count": 124,
     "metadata": {},
     "output_type": "execute_result"
    }
   ],
   "source": [
    "# Save model \n",
    "\n",
    "joblib.dump(model, PROJECT_DIR/'models/model.joblib')"
   ]
  },
  {
   "cell_type": "markdown",
   "id": "52decaea",
   "metadata": {},
   "source": [
    "## Evaluate"
   ]
  },
  {
   "cell_type": "code",
   "execution_count": 125,
   "id": "5aa35dae",
   "metadata": {},
   "outputs": [],
   "source": [
    "import seaborn as sns\n",
    "from sklearn.metrics import (confusion_matrix, f1_score,\n",
    "                             roc_auc_score)\n",
    "from sklearn.metrics import RocCurveDisplay\n",
    "from sklearn.inspection import permutation_importance"
   ]
  },
  {
   "cell_type": "code",
   "execution_count": 126,
   "id": "d9262a4f",
   "metadata": {},
   "outputs": [],
   "source": [
    "# Get predictions \n",
    "\n",
    "y_prob = model.predict_proba(X_test)\n",
    "y_pred = (y_prob[:, 1] >= 0.5).astype(int)"
   ]
  },
  {
   "cell_type": "code",
   "execution_count": 127,
   "id": "8e804220-6cd6-4755-94bc-1b2f3a4901ea",
   "metadata": {},
   "outputs": [
    {
     "data": {
      "text/plain": [
       "array([0, 0, 0, ..., 0, 0, 0])"
      ]
     },
     "execution_count": 127,
     "metadata": {},
     "output_type": "execute_result"
    }
   ],
   "source": [
    "y_pred"
   ]
  },
  {
   "cell_type": "code",
   "execution_count": 128,
   "id": "66a27f73",
   "metadata": {},
   "outputs": [
    {
     "name": "stdout",
     "output_type": "stream",
     "text": [
      "0.5688073394495413\n",
      "0.8607069275362611\n"
     ]
    }
   ],
   "source": [
    "# Calculate Metrics\n",
    "\n",
    "f1 = f1_score(y_test, y_pred)\n",
    "roc_auc = roc_auc_score(y_test, y_prob[:, 1])\n",
    "\n",
    "print(f1)\n",
    "print(roc_auc)"
   ]
  },
  {
   "cell_type": "code",
   "execution_count": 129,
   "id": "6393c020-2738-4fda-ad3d-b77a780636d6",
   "metadata": {},
   "outputs": [
    {
     "data": {
      "image/png": "[encoded data removed]",
      "text/plain": [
       "<Figure size 640x480 with 2 Axes>"
      ]
     },
     "metadata": {},
     "output_type": "display_data"
    }
   ],
   "source": [
    "# Plot Confusion Matrix \n",
    "\n",
    "cm = confusion_matrix(y_test, y_pred, normalize='true') \n",
    "sns.heatmap(cm, annot=True, cmap=plt.cm.Blues) \n",
    "\n",
    "# Save image file\n",
    "plt.savefig(PROJECT_DIR/'results/cm.png')"
   ]
  },
  {
   "cell_type": "code",
   "execution_count": 130,
   "id": "90d7c2e3-0e92-40ec-8bec-29a0824f1ba2",
   "metadata": {},
   "outputs": [
    {
     "data": {
      "image/png": "[encoded data removed]",
      "text/plain": [
       "<Figure size 640x480 with 1 Axes>"
      ]
     },
     "metadata": {},
     "output_type": "display_data"
    }
   ],
   "source": [
    "# ROC-AUC Curve\n",
    "\n",
    "# fig, ax = plt.subplots()\n",
    "svc_disp = RocCurveDisplay.from_estimator(model, X_test, y_test)"
   ]
  },
  {
   "cell_type": "markdown",
   "id": "21e05f7e-4dfb-47cc-ade0-424924a022e3",
   "metadata": {},
   "source": [
    "# DVCLive: Simple metrics, plots and artifacts logging with Live"
   ]
  },
  {
   "cell_type": "markdown",
   "id": "23db17e0-dd39-462a-a855-a57e3b4e32f8",
   "metadata": {},
   "source": [
    "## 1 - Initiate a Live object\n",
    "- \"dvclive\" dir is created by default\n",
    "- all metrics, plots and artifaces saved there"
   ]
  },
  {
   "cell_type": "code",
   "execution_count": 131,
   "id": "56746d84",
   "metadata": {},
   "outputs": [
    {
     "name": "stderr",
     "output_type": "stream",
     "text": [
      "WARNING:dvclive:Can't connect to Studio without creating a DVC experiment.\n",
      "If you have a DVC Pipeline, run it with `dvc exp run`.\n",
      "If you are using DVCLive alone, use `save_dvc_exp=True`.\n"
     ]
    }
   ],
   "source": [
    "from dvclive import Live\n",
    "\n",
    "# DVCLive: Initiate Live object \n",
    "live = Live()"
   ]
  },
  {
   "cell_type": "markdown",
   "id": "552e4e6d-f339-405d-9854-1fe401d892e4",
   "metadata": {},
   "source": [
    "## 2 - Log metrics "
   ]
  },
  {
   "cell_type": "code",
   "execution_count": 132,
   "id": "cf6e9348",
   "metadata": {},
   "outputs": [],
   "source": [
    "# DVCLive: Log an existing image\n",
    "\n",
    "live.log_metric('f1', f1)\n",
    "live.log_metric('roc_auc', roc_auc)"
   ]
  },
  {
   "cell_type": "markdown",
   "id": "9d51410c-25d1-40f9-bf97-f6d2874050c7",
   "metadata": {},
   "source": [
    "## 3 - Log plots and images"
   ]
  },
  {
   "cell_type": "code",
   "execution_count": 133,
   "id": "5d5e9584",
   "metadata": {},
   "outputs": [],
   "source": [
    "# Log an existing image\n",
    "\n",
    "live.log_image('cm.png', PROJECT_DIR/'results/cm.png')"
   ]
  },
  {
   "cell_type": "code",
   "execution_count": 134,
   "id": "4bcae8b7",
   "metadata": {},
   "outputs": [],
   "source": [
    "# # Log plot \n",
    "\n",
    "# live.log_plot(\"confusion_matrix_plot\", y_test, y_pred)"
   ]
  },
  {
   "cell_type": "code",
   "execution_count": 135,
   "id": "af632bd7-40a3-4d69-a44d-b2541252f624",
   "metadata": {},
   "outputs": [],
   "source": [
    "# Log sklearn plot \n",
    "\n",
    "# live.log_sklearn_plot(\"confusion_matrix\", y_test, y_pred, name=\"cm.json\")"
   ]
  },
  {
   "cell_type": "code",
   "execution_count": 136,
   "id": "93a42bf4-5704-48c7-9566-ae7e6494cc58",
   "metadata": {},
   "outputs": [],
   "source": [
    "# Log Matplotlib Figure as an image\n",
    "\n",
    "svc_disp = RocCurveDisplay.from_estimator(model, X_test, y_test)\n",
    "live.log_image(\"roc.png\", svc_disp.figure_)"
   ]
  },
  {
   "cell_type": "markdown",
   "id": "42554dbe-23f1-464a-a9ab-4a65c9e6f454",
   "metadata": {},
   "source": [
    "## 4 - Log a model"
   ]
  },
  {
   "cell_type": "code",
   "execution_count": 137,
   "id": "c4aafb9e-e91f-4bd4-8ad9-be49c47956b5",
   "metadata": {},
   "outputs": [],
   "source": [
    "# DVCLive: Log Model\n",
    "\n",
    "live.log_artifact(\n",
    "    path = PROJECT_DIR/'models/model.joblib',\n",
    "    type = 'model', \n",
    "    cache  = False  # DVC stores metadata about the model in 'dvclive/dvc.yaml' without storing a copy in the DVC cache.\n",
    ")"
   ]
  },
  {
   "cell_type": "markdown",
   "id": "68b4690e-9b78-44d3-ac01-e1f60922913b",
   "metadata": {},
   "source": [
    "## 5 - Close Live object  \n",
    "\n",
    "- Call Live.end() when the current experiment has ended"
   ]
  },
  {
   "cell_type": "code",
   "execution_count": 138,
   "id": "525fb29a-840d-4a37-a507-1bf25e8bd232",
   "metadata": {},
   "outputs": [],
   "source": [
    "# DVCLive: call live.end() to make and display summary\n",
    "# Docs: https://dvc.org/doc/dvclive/live/end#description \n",
    "\n",
    "live.end()"
   ]
  },
  {
   "cell_type": "code",
   "execution_count": 139,
   "id": "2db40edc-a17b-4dbb-b144-d80d54afd615",
   "metadata": {},
   "outputs": [],
   "source": [
    "# # # DVCLive: live.end() is eqvivalent to the following calls \n",
    "\n",
    "# live.make_summary()  # Makes a summary `metrics.json` in the `live.dir` \n",
    "# live.make_report()   # Makes a 'report.html' in the `live.dir` \n",
    "# live.make_dvcyaml()  # Makes a 'dvc.yaml' with plots and metrics metadata"
   ]
  },
  {
   "cell_type": "markdown",
   "id": "fa48d9ed-1477-476b-a47f-4b06ac18c336",
   "metadata": {},
   "source": [
    "## 6 - Commit metrics "
   ]
  },
  {
   "cell_type": "code",
   "execution_count": 140,
   "id": "98096a60-b157-464e-96bf-ca4d6a16b26f",
   "metadata": {},
   "outputs": [],
   "source": [
    "# !git add dvclive      # Commit 'dvclive' dir to Git\n",
    "# !git push             # Push changes to Git remote"
   ]
  },
  {
   "cell_type": "markdown",
   "id": "8afac3ac-0342-41da-a6a1-98f20c3e6df9",
   "metadata": {},
   "source": [
    "# DVCLive: Live context manager and versioning with DVC"
   ]
  },
  {
   "cell_type": "markdown",
   "id": "11a637d5-20ee-4b01-8dbf-423b6b3139bd",
   "metadata": {},
   "source": [
    "### 1 - Save Predictions"
   ]
  },
  {
   "cell_type": "code",
   "execution_count": 141,
   "id": "87fd9585-450a-4389-b250-7f92fe2794e7",
   "metadata": {},
   "outputs": [
    {
     "data": {
      "text/html": [
       "<div>\n",
       "<style scoped>\n",
       "    .dataframe tbody tr th:only-of-type {\n",
       "        vertical-align: middle;\n",
       "    }\n",
       "\n",
       "    .dataframe tbody tr th {\n",
       "        vertical-align: top;\n",
       "    }\n",
       "\n",
       "    .dataframe thead th {\n",
       "        text-align: right;\n",
       "    }\n",
       "</style>\n",
       "<table border=\"1\" class=\"dataframe\">\n",
       "  <thead>\n",
       "    <tr style=\"text-align: right;\">\n",
       "      <th></th>\n",
       "      <th>Geography</th>\n",
       "      <th>Gender</th>\n",
       "      <th>CreditScore</th>\n",
       "      <th>Age</th>\n",
       "      <th>Tenure</th>\n",
       "      <th>Balance</th>\n",
       "      <th>NumOfProducts</th>\n",
       "      <th>HasCrCard</th>\n",
       "      <th>IsActiveMember</th>\n",
       "      <th>EstimatedSalary</th>\n",
       "      <th>true</th>\n",
       "      <th>pred</th>\n",
       "      <th>prob</th>\n",
       "    </tr>\n",
       "  </thead>\n",
       "  <tbody>\n",
       "    <tr>\n",
       "      <th>6252</th>\n",
       "      <td>Germany</td>\n",
       "      <td>Male</td>\n",
       "      <td>596</td>\n",
       "      <td>32</td>\n",
       "      <td>3</td>\n",
       "      <td>96709.07</td>\n",
       "      <td>2</td>\n",
       "      <td>0</td>\n",
       "      <td>0</td>\n",
       "      <td>41788.37</td>\n",
       "      <td>0</td>\n",
       "      <td>0</td>\n",
       "      <td>0.033832</td>\n",
       "    </tr>\n",
       "    <tr>\n",
       "      <th>4684</th>\n",
       "      <td>France</td>\n",
       "      <td>Male</td>\n",
       "      <td>623</td>\n",
       "      <td>43</td>\n",
       "      <td>1</td>\n",
       "      <td>0.00</td>\n",
       "      <td>2</td>\n",
       "      <td>1</td>\n",
       "      <td>1</td>\n",
       "      <td>146379.30</td>\n",
       "      <td>0</td>\n",
       "      <td>0</td>\n",
       "      <td>0.041014</td>\n",
       "    </tr>\n",
       "    <tr>\n",
       "      <th>1731</th>\n",
       "      <td>Spain</td>\n",
       "      <td>Female</td>\n",
       "      <td>601</td>\n",
       "      <td>44</td>\n",
       "      <td>4</td>\n",
       "      <td>0.00</td>\n",
       "      <td>2</td>\n",
       "      <td>1</td>\n",
       "      <td>0</td>\n",
       "      <td>58561.31</td>\n",
       "      <td>0</td>\n",
       "      <td>0</td>\n",
       "      <td>0.116535</td>\n",
       "    </tr>\n",
       "    <tr>\n",
       "      <th>4742</th>\n",
       "      <td>Germany</td>\n",
       "      <td>Male</td>\n",
       "      <td>506</td>\n",
       "      <td>59</td>\n",
       "      <td>8</td>\n",
       "      <td>119152.10</td>\n",
       "      <td>2</td>\n",
       "      <td>1</td>\n",
       "      <td>1</td>\n",
       "      <td>170679.74</td>\n",
       "      <td>0</td>\n",
       "      <td>0</td>\n",
       "      <td>0.154570</td>\n",
       "    </tr>\n",
       "    <tr>\n",
       "      <th>4521</th>\n",
       "      <td>Spain</td>\n",
       "      <td>Female</td>\n",
       "      <td>560</td>\n",
       "      <td>27</td>\n",
       "      <td>7</td>\n",
       "      <td>124995.98</td>\n",
       "      <td>1</td>\n",
       "      <td>1</td>\n",
       "      <td>1</td>\n",
       "      <td>114669.79</td>\n",
       "      <td>0</td>\n",
       "      <td>0</td>\n",
       "      <td>0.123252</td>\n",
       "    </tr>\n",
       "  </tbody>\n",
       "</table>\n",
       "</div>"
      ],
      "text/plain": [
       "     Geography  Gender  CreditScore  Age  Tenure    Balance  NumOfProducts  \\\n",
       "6252   Germany    Male          596   32       3   96709.07              2   \n",
       "4684    France    Male          623   43       1       0.00              2   \n",
       "1731     Spain  Female          601   44       4       0.00              2   \n",
       "4742   Germany    Male          506   59       8  119152.10              2   \n",
       "4521     Spain  Female          560   27       7  124995.98              1   \n",
       "\n",
       "      HasCrCard  IsActiveMember  EstimatedSalary  true  pred      prob  \n",
       "6252          0               0         41788.37     0     0  0.033832  \n",
       "4684          1               1        146379.30     0     0  0.041014  \n",
       "1731          1               0         58561.31     0     0  0.116535  \n",
       "4742          1               1        170679.74     0     0  0.154570  \n",
       "4521          1               1        114669.79     0     0  0.123252  "
      ]
     },
     "execution_count": 141,
     "metadata": {},
     "output_type": "execute_result"
    }
   ],
   "source": [
    "# Prepare Predictions Table\n",
    "\n",
    "df_test = X_test.copy(deep=True)\n",
    "df_test['true'] = y_test\n",
    "df_test['pred'] = y_pred\n",
    "df_test['prob'] = y_prob[:, 1]\n",
    "\n",
    "df_test.head()"
   ]
  },
  {
   "cell_type": "code",
   "execution_count": 142,
   "id": "76c47396-3a95-4465-96a6-2d05841d8b6d",
   "metadata": {},
   "outputs": [],
   "source": [
    "# Save Predictions\n",
    "\n",
    "df_test.to_csv(PROJECT_DIR/'results/predictions.csv', index=True)"
   ]
  },
  {
   "cell_type": "markdown",
   "id": "b2e410d8",
   "metadata": {},
   "source": [
    "### 2 - Calculcate and save Feature Importance"
   ]
  },
  {
   "cell_type": "code",
   "execution_count": 143,
   "id": "9bf96b3c",
   "metadata": {},
   "outputs": [],
   "source": [
    "# Calculate Feature Importance for Train\n",
    "\n",
    "perm = permutation_importance(\n",
    "    model, X_train, y_train, n_repeats=3, random_state=0, n_jobs=2)\n",
    "\n",
    "\n",
    "sorted_importances_idx = perm.importances_mean.argsort()\n",
    "feat_imp_train = pd.DataFrame(\n",
    "    perm.importances[sorted_importances_idx].T,\n",
    "    columns=X_test.columns[sorted_importances_idx],\n",
    ")"
   ]
  },
  {
   "cell_type": "code",
   "execution_count": 144,
   "id": "08c83d42-36ef-40d5-ac96-e023404a1806",
   "metadata": {},
   "outputs": [
    {
     "data": {
      "image/png": "[encoded data removed]",
      "text/plain": [
       "<Figure size 640x480 with 1 Axes>"
      ]
     },
     "metadata": {},
     "output_type": "display_data"
    }
   ],
   "source": [
    "ax = feat_imp_train.plot.box(vert=False, whis=10)\n",
    "ax.set_title(\"Permutation Importances (train set)\")\n",
    "ax.set_xlabel(\"Decrease in accuracy score\")\n",
    "ax.figure.tight_layout()"
   ]
  },
  {
   "cell_type": "code",
   "execution_count": 145,
   "id": "282f812b",
   "metadata": {},
   "outputs": [
    {
     "data": {
      "text/html": [
       "<div>\n",
       "<style scoped>\n",
       "    .dataframe tbody tr th:only-of-type {\n",
       "        vertical-align: middle;\n",
       "    }\n",
       "\n",
       "    .dataframe tbody tr th {\n",
       "        vertical-align: top;\n",
       "    }\n",
       "\n",
       "    .dataframe thead th {\n",
       "        text-align: right;\n",
       "    }\n",
       "</style>\n",
       "<table border=\"1\" class=\"dataframe\">\n",
       "  <thead>\n",
       "    <tr style=\"text-align: right;\">\n",
       "      <th></th>\n",
       "      <th>mean</th>\n",
       "      <th>std</th>\n",
       "    </tr>\n",
       "  </thead>\n",
       "  <tbody>\n",
       "    <tr>\n",
       "      <th>Age</th>\n",
       "      <td>0.094756</td>\n",
       "      <td>0.001336</td>\n",
       "    </tr>\n",
       "    <tr>\n",
       "      <th>NumOfProducts</th>\n",
       "      <td>0.063600</td>\n",
       "      <td>0.002433</td>\n",
       "    </tr>\n",
       "    <tr>\n",
       "      <th>IsActiveMember</th>\n",
       "      <td>0.051956</td>\n",
       "      <td>0.002318</td>\n",
       "    </tr>\n",
       "    <tr>\n",
       "      <th>Balance</th>\n",
       "      <td>0.024933</td>\n",
       "      <td>0.001058</td>\n",
       "    </tr>\n",
       "    <tr>\n",
       "      <th>Geography</th>\n",
       "      <td>0.018222</td>\n",
       "      <td>0.000888</td>\n",
       "    </tr>\n",
       "  </tbody>\n",
       "</table>\n",
       "</div>"
      ],
      "text/plain": [
       "                    mean       std\n",
       "Age             0.094756  0.001336\n",
       "NumOfProducts   0.063600  0.002433\n",
       "IsActiveMember  0.051956  0.002318\n",
       "Balance         0.024933  0.001058\n",
       "Geography       0.018222  0.000888"
      ]
     },
     "execution_count": 145,
     "metadata": {},
     "output_type": "execute_result"
    }
   ],
   "source": [
    "# Prepare Feature Importance Table\n",
    "\n",
    "fimp_df = (feat_imp_train\n",
    " .agg(['mean', 'std'], axis=0)\n",
    " .T.sort_values(by='mean', ascending=False)\n",
    ")\n",
    "\n",
    "fimp_df.head()"
   ]
  },
  {
   "cell_type": "code",
   "execution_count": 146,
   "id": "ec24fb87-fec4-4ad7-956f-bd420b792fba",
   "metadata": {},
   "outputs": [],
   "source": [
    "# Save Feature Importance Table\n",
    "\n",
    "fimp_df.to_csv(PROJECT_DIR/'results/feat_imp_train.csv', index=True)"
   ]
  },
  {
   "cell_type": "markdown",
   "id": "6cdcdc0d-a354-4297-b584-b468e81ac558",
   "metadata": {},
   "source": [
    "### 3 - Log artifacts\n",
    "\n",
    "Notes:\n",
    "- `dir` Location of the directory to store outputs (default value is 'dvclive')\n",
    "- If `dvcyaml=True` (default) and you include any of the fields in `[type, name, desc, labels, meta]`, it will add all the artifact's metadata to the corresponding dvc.yaml.\n",
    "- Passing `type=\"model\"` will mark it as a model for DVC and will make it appear in Studio model registry.\n",
    "- `live.end()` is called automatically when exiting the context manager\n",
    "- Docs: https://dvc.org/doc/dvclive/live/log_artifact "
   ]
  },
  {
   "cell_type": "code",
   "execution_count": 147,
   "id": "74d46659-c7a0-47fa-8346-d1eda562c13f",
   "metadata": {},
   "outputs": [
    {
     "name": "stderr",
     "output_type": "stream",
     "text": [
      "WARNING:dvclive:Can't connect to Studio without creating a DVC experiment.\n",
      "If you have a DVC Pipeline, run it with `dvc exp run`.\n",
      "If you are using DVCLive alone, use `save_dvc_exp=True`.\n"
     ]
    },
    {
     "data": {
      "text/html": [
       "<pre style=\"white-space:pre;overflow-x:auto;line-height:normal;font-family:Menlo,'DejaVu Sans Mono',consolas,'Courier New',monospace\"></pre>\n"
      ],
      "text/plain": []
     },
     "metadata": {},
     "output_type": "display_data"
    },
    {
     "data": {
      "text/html": [
       "<pre style=\"white-space:pre;overflow-x:auto;line-height:normal;font-family:Menlo,'DejaVu Sans Mono',consolas,'Courier New',monospace\"></pre>\n"
      ],
      "text/plain": []
     },
     "metadata": {},
     "output_type": "display_data"
    }
   ],
   "source": [
    "# # DVCLive:  Save metrics, plots, and artifacts with the Live context manager\n",
    "\n",
    "with Live(dir=PROJECT_DIR/'results/dvclive_artifacts', dvcyaml=True) as live:\n",
    "    \n",
    "    # DVCLive: Log Feature Importance image \n",
    "    ax = feat_imp_train.plot.box(vert=False, whis=10)\n",
    "    ax.set_title(\"Permutation Importances (train set)\")\n",
    "    ax.set_xlabel(\"Decrease in accuracy score\")\n",
    "    ax.figure.tight_layout()\n",
    "    live.log_image(PROJECT_DIR/'results/feature_imp_train.png', ax.figure)  \n",
    "    \n",
    "    # DVCLive: log data artifact\n",
    "    live.log_artifact(PROJECT_DIR/'results/predictions.csv') # path to an existing directory or file \n",
    "    \n",
    "    # DVCLive: log data artifact (extended) \n",
    "    live.log_artifact(\n",
    "        path = PROJECT_DIR/'results/feat_imp_train.csv',\n",
    "        type = 'dataset',\n",
    "        name = 'feature-importance-train', # custom name of an artifact (use dashes '-' instead of '_' underscores)\n",
    "        desc = 'Permutation based Feature Importance for Train dataset',\n",
    "        labels = ['train'],\n",
    "        meta = {'n_repeats': 3},\n",
    "        copy  = False,\n",
    "        cache  = True, # version with DVC\n",
    "    )"
   ]
  },
  {
   "cell_type": "markdown",
   "id": "5868152e-d871-4e20-97a9-2c1eebb186db",
   "metadata": {},
   "source": [
    "## 4 - Commit and push to DVC remote storage\n",
    "\n",
    "- We assume you have already setup [DVC Remote Storage](https://dvc.org/doc/user-guide/data-management/remote-storage#remote-storage)"
   ]
  },
  {
   "cell_type": "code",
   "execution_count": 148,
   "id": "d1c11afd-fe11-4829-9dee-9590c7fa9ecb",
   "metadata": {},
   "outputs": [],
   "source": [
    "# Commit and push changes to Git (metadata only)\n",
    "\n",
    "# !git add ../results/dvclive_artifacts/ ../results/predictions.csv.dvc      \n",
    "# !git push             "
   ]
  },
  {
   "cell_type": "code",
   "execution_count": 149,
   "id": "74b1e46b-fe3b-4874-a57d-76f562bba8ef",
   "metadata": {},
   "outputs": [
    {
     "name": "stdout",
     "output_type": "stream",
     "text": [
      "Everything is up to date.                                                       \n"
     ]
    }
   ],
   "source": [
    "# Push to DVC remote storage\n",
    "\n",
    "## You may create a 'local' remote for demo purposes\n",
    "# !mkdir -p /tmp/dvc/dvclive\n",
    "# !dvc remote add local /tmp/dvc/dvclive\n",
    "\n",
    "## Push to DVC\n",
    "# !dvc push -r local"
   ]
  },
  {
   "cell_type": "markdown",
   "id": "2393e051-4a3c-455b-806e-9c648b22a8a1",
   "metadata": {},
   "source": [
    "# DVCLive: Live experiments in Studio and DVC experiments"
   ]
  },
  {
   "cell_type": "code",
   "execution_count": 151,
   "id": "ec6eddfc-bd1a-454c-8bc4-066183c83e5a",
   "metadata": {},
   "outputs": [
    {
     "data": {
      "text/markdown": [
       "# DVC Report\n",
       "\n",
       "metrics.json\n",
       "\n",
       "|   accuracy |   step |\n",
       "|------------|--------|\n",
       "|    2.99573 |     19 |\n",
       "\n",
       "![static/accuracy](data:image/png;base64,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)\n"
      ],
      "text/plain": [
       "<IPython.core.display.Markdown object>"
      ]
     },
     "metadata": {},
     "output_type": "display_data"
    },
    {
     "data": {
      "text/html": [
       "<pre style=\"white-space:pre;overflow-x:auto;line-height:normal;font-family:Menlo,'DejaVu Sans Mono',consolas,'Courier New',monospace\"></pre>\n"
      ],
      "text/plain": []
     },
     "metadata": {},
     "output_type": "display_data"
    },
    {
     "data": {
      "text/html": [
       "<pre style=\"white-space:pre;overflow-x:auto;line-height:normal;font-family:Menlo,'DejaVu Sans Mono',consolas,'Courier New',monospace\"></pre>\n"
      ],
      "text/plain": []
     },
     "metadata": {},
     "output_type": "display_data"
    },
    {
     "data": {
      "text/html": [
       "<pre style=\"white-space:pre;overflow-x:auto;line-height:normal;font-family:Menlo,'DejaVu Sans Mono',consolas,'Courier New',monospace\"></pre>\n"
      ],
      "text/plain": []
     },
     "metadata": {},
     "output_type": "display_data"
    },
    {
     "data": {
      "text/html": [
       "<pre style=\"white-space:pre;overflow-x:auto;line-height:normal;font-family:Menlo,'DejaVu Sans Mono',consolas,'Courier New',monospace\"></pre>\n"
      ],
      "text/plain": []
     },
     "metadata": {},
     "output_type": "display_data"
    },
    {
     "data": {
      "text/html": [
       "<pre style=\"white-space:pre;overflow-x:auto;line-height:normal;font-family:Menlo,'DejaVu Sans Mono',consolas,'Courier New',monospace\"></pre>\n"
      ],
      "text/plain": []
     },
     "metadata": {},
     "output_type": "display_data"
    },
    {
     "data": {
      "text/html": [
       "<pre style=\"white-space:pre;overflow-x:auto;line-height:normal;font-family:Menlo,'DejaVu Sans Mono',consolas,'Courier New',monospace\"></pre>\n"
      ],
      "text/plain": []
     },
     "metadata": {},
     "output_type": "display_data"
    },
    {
     "data": {
      "text/html": [
       "<pre style=\"white-space:pre;overflow-x:auto;line-height:normal;font-family:Menlo,'DejaVu Sans Mono',consolas,'Courier New',monospace\"></pre>\n"
      ],
      "text/plain": []
     },
     "metadata": {},
     "output_type": "display_data"
    },
    {
     "data": {
      "text/html": [
       "<pre style=\"white-space:pre;overflow-x:auto;line-height:normal;font-family:Menlo,'DejaVu Sans Mono',consolas,'Courier New',monospace\"></pre>\n"
      ],
      "text/plain": []
     },
     "metadata": {},
     "output_type": "display_data"
    },
    {
     "data": {
      "text/html": [
       "<pre style=\"white-space:pre;overflow-x:auto;line-height:normal;font-family:Menlo,'DejaVu Sans Mono',consolas,'Courier New',monospace\"></pre>\n"
      ],
      "text/plain": []
     },
     "metadata": {},
     "output_type": "display_data"
    },
    {
     "data": {
      "text/html": [
       "<pre style=\"white-space:pre;overflow-x:auto;line-height:normal;font-family:Menlo,'DejaVu Sans Mono',consolas,'Courier New',monospace\"></pre>\n"
      ],
      "text/plain": []
     },
     "metadata": {},
     "output_type": "display_data"
    },
    {
     "data": {
      "text/html": [
       "<pre style=\"white-space:pre;overflow-x:auto;line-height:normal;font-family:Menlo,'DejaVu Sans Mono',consolas,'Courier New',monospace\"></pre>\n"
      ],
      "text/plain": []
     },
     "metadata": {},
     "output_type": "display_data"
    },
    {
     "data": {
      "text/html": [
       "<pre style=\"white-space:pre;overflow-x:auto;line-height:normal;font-family:Menlo,'DejaVu Sans Mono',consolas,'Courier New',monospace\"></pre>\n"
      ],
      "text/plain": []
     },
     "metadata": {},
     "output_type": "display_data"
    },
    {
     "data": {
      "text/html": [
       "<pre style=\"white-space:pre;overflow-x:auto;line-height:normal;font-family:Menlo,'DejaVu Sans Mono',consolas,'Courier New',monospace\"></pre>\n"
      ],
      "text/plain": []
     },
     "metadata": {},
     "output_type": "display_data"
    },
    {
     "data": {
      "text/html": [
       "<pre style=\"white-space:pre;overflow-x:auto;line-height:normal;font-family:Menlo,'DejaVu Sans Mono',consolas,'Courier New',monospace\"></pre>\n"
      ],
      "text/plain": []
     },
     "metadata": {},
     "output_type": "display_data"
    },
    {
     "data": {
      "text/html": [
       "<pre style=\"white-space:pre;overflow-x:auto;line-height:normal;font-family:Menlo,'DejaVu Sans Mono',consolas,'Courier New',monospace\"></pre>\n"
      ],
      "text/plain": []
     },
     "metadata": {},
     "output_type": "display_data"
    },
    {
     "data": {
      "text/html": [
       "<pre style=\"white-space:pre;overflow-x:auto;line-height:normal;font-family:Menlo,'DejaVu Sans Mono',consolas,'Courier New',monospace\"></pre>\n"
      ],
      "text/plain": []
     },
     "metadata": {},
     "output_type": "display_data"
    },
    {
     "data": {
      "text/html": [
       "<pre style=\"white-space:pre;overflow-x:auto;line-height:normal;font-family:Menlo,'DejaVu Sans Mono',consolas,'Courier New',monospace\"></pre>\n"
      ],
      "text/plain": []
     },
     "metadata": {},
     "output_type": "display_data"
    },
    {
     "data": {
      "text/html": [
       "<pre style=\"white-space:pre;overflow-x:auto;line-height:normal;font-family:Menlo,'DejaVu Sans Mono',consolas,'Courier New',monospace\"></pre>\n"
      ],
      "text/plain": []
     },
     "metadata": {},
     "output_type": "display_data"
    },
    {
     "data": {
      "text/html": [
       "<pre style=\"white-space:pre;overflow-x:auto;line-height:normal;font-family:Menlo,'DejaVu Sans Mono',consolas,'Courier New',monospace\"></pre>\n"
      ],
      "text/plain": []
     },
     "metadata": {},
     "output_type": "display_data"
    },
    {
     "data": {
      "text/html": [
       "<pre style=\"white-space:pre;overflow-x:auto;line-height:normal;font-family:Menlo,'DejaVu Sans Mono',consolas,'Courier New',monospace\"></pre>\n"
      ],
      "text/plain": []
     },
     "metadata": {},
     "output_type": "display_data"
    },
    {
     "name": "stderr",
     "output_type": "stream",
     "text": [
      "WARNING: The following untracked files were present in the workspace before saving but will not be included in the experiment commit:\n",
      "\tresults/dvclive_artifacts/metrics.json, results/dvclive_artifacts/dvc.yaml, results/dvclive_artifacts/report.html\n"
     ]
    }
   ],
   "source": [
    "from dvclive import Live\n",
    "from math import log\n",
    "import time\n",
    "\n",
    "epochs = 20\n",
    "\n",
    "with Live(dir=PROJECT_DIR/'results/dvclive_studio',\n",
    "          dvcyaml=True,\n",
    "          save_dvc_exp=True, # DVCLive will create a new DVC experiment \n",
    "          report='notebook', # Display a report in the Notebook\n",
    "         ) as live:\n",
    "    \n",
    "    for i in range(20):\n",
    "        \n",
    "        live.log_metric(\"accuracy\", log(1+i))\n",
    "        live.log_artifact(\n",
    "            path = PROJECT_DIR/'models/model.joblib',\n",
    "            type = 'model', \n",
    "            cache  = True,  # Store the artifact in the DVC cache.\n",
    "            copy = True,    # Copy the artifact to 'Live.dir'. Useful if you don't want to track the original path in your repo\n",
    "        )\n",
    "        \n",
    "        time.sleep(3)\n",
    "\n",
    "        # Signal that the current iteration has ended and increases step value by 1 (one).\n",
    "        live.next_step()\n"
   ]
  }
 ],
 "metadata": {
  "interpreter": {
   "hash": "e910e63c37a66cc726b4e77e59b06d8cd1e2f839f987a133c76680f0deee0742"
  },
  "kernelspec": {
   "display_name": "Python 3 (ipykernel)",
   "language": "python",
   "name": "python3"
  },
  "language_info": {
   "codemirror_mode": {
    "name": "ipython",
    "version": 3
   },
   "file_extension": ".py",
   "mimetype": "text/x-python",
   "name": "python",
   "nbconvert_exporter": "python",
   "pygments_lexer": "ipython3",
   "version": "3.11.4"
  }
 },
 "nbformat": 4,
 "nbformat_minor": 5
}
